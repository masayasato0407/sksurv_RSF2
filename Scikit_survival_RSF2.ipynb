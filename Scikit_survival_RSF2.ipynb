{
  "cells": [
    {
      "cell_type": "markdown",
      "metadata": {
        "id": "view-in-github",
        "colab_type": "text"
      },
      "source": [
        "<a href=\"https://colab.research.google.com/github/masayasato0407/sksurv_RSF2/blob/main/Scikit_survival_RSF2.ipynb\" target=\"_parent\"><img src=\"https://colab.research.google.com/assets/colab-badge.svg\" alt=\"Open In Colab\"/></a>"
      ]
    },
    {
      "cell_type": "code",
      "execution_count": null,
      "metadata": {
        "id": "P5xCcfuWh9Re"
      },
      "outputs": [],
      "source": [
        "#以下URLをclone\n",
        "!git clone https://github.com/masayasato0407/sksurv_RSF2"
      ]
    },
    {
      "cell_type": "code",
      "source": [
        "cd sksurv_RSF2"
      ],
      "metadata": {
        "id": "ZcH-u7JXH9AO"
      },
      "execution_count": null,
      "outputs": []
    },
    {
      "cell_type": "code",
      "source": [
        "#requirements.txtの読み込み\n",
        "!pip install -r requirements.txt"
      ],
      "metadata": {
        "id": "4y7qjSMIIDYp"
      },
      "execution_count": null,
      "outputs": []
    },
    {
      "cell_type": "code",
      "execution_count": null,
      "metadata": {
        "id": "BeZW8JGshUTH"
      },
      "outputs": [],
      "source": [
        "from sksurv.ensemble import GradientBoostingSurvivalAnalysis\n",
        "from sksurv.linear_model import CoxPHSurvivalAnalysis\n",
        "from sksurv.linear_model.coxph import BreslowEstimator\n",
        "import sksurv\n",
        "from sksurv.linear_model import CoxPHSurvivalAnalysis, CoxnetSurvivalAnalysis"
      ]
    },
    {
      "cell_type": "code",
      "execution_count": null,
      "metadata": {
        "id": "7cnLmgkvhUTN"
      },
      "outputs": [],
      "source": [
        "import pandas as pd\n",
        "import matplotlib.pyplot as plt\n",
        "import numpy as np\n",
        "%matplotlib inline\n",
        "\n",
        "from sklearn.model_selection import train_test_split\n",
        "from sklearn.preprocessing import OrdinalEncoder\n",
        "\n",
        "from sksurv.datasets import load_gbsg2\n",
        "from sksurv.preprocessing import OneHotEncoder\n",
        "from sksurv.ensemble import RandomSurvivalForest"
      ]
    },
    {
      "cell_type": "code",
      "execution_count": null,
      "metadata": {
        "id": "gNgtq04yhUTO"
      },
      "outputs": [],
      "source": [
        "#説明変数(trainx)ファイルの読み込み\n",
        "from google.colab import files\n",
        "uploaded = files.upload()"
      ]
    },
    {
      "cell_type": "code",
      "execution_count": null,
      "metadata": {
        "id": "CjSpUtdphUTQ"
      },
      "outputs": [],
      "source": [
        "X_train0=pd.read_csv (\"trainx.csv\",encoding=\"utf-8\")\n",
        "print (X_train0)"
      ]
    },
    {
      "cell_type": "code",
      "execution_count": null,
      "metadata": {
        "id": "saRxvyGbhUTQ"
      },
      "outputs": [],
      "source": [
        "#ndarrrayへ変換\n",
        "X_train = X_train0.to_numpy()\n",
        "X_train"
      ]
    },
    {
      "cell_type": "code",
      "execution_count": null,
      "metadata": {
        "id": "YvBYArpbhUTR"
      },
      "outputs": [],
      "source": [
        "#説明変数(testx)ファイルの読み込み\n",
        "from google.colab import files\n",
        "uploaded = files.upload()"
      ]
    },
    {
      "cell_type": "code",
      "execution_count": null,
      "metadata": {
        "id": "nqNX_jzLjWqX"
      },
      "outputs": [],
      "source": [
        "X_test0=pd.read_csv (\"testx.csv\",encoding=\"utf-8\")\n",
        "print (X_test0)"
      ]
    },
    {
      "cell_type": "code",
      "execution_count": null,
      "metadata": {
        "id": "IL5_l6txhUTR"
      },
      "outputs": [],
      "source": [
        "#ndarrrayへ変換\n",
        "X_test = X_test0.to_numpy()\n",
        "X_test"
      ]
    },
    {
      "cell_type": "code",
      "execution_count": null,
      "metadata": {
        "id": "cuWF5oYghUTS"
      },
      "outputs": [],
      "source": [
        "#timeとeventのdata, trainy読み込み\n",
        "from google.colab import files\n",
        "uploaded = files.upload()"
      ]
    },
    {
      "cell_type": "code",
      "execution_count": null,
      "metadata": {
        "id": "mylH_FCTjqkP"
      },
      "outputs": [],
      "source": [
        "y_train0=pd.read_csv (\"trainy.csv\",encoding=\"utf-8\")\n",
        "print (y_train0)"
      ]
    },
    {
      "cell_type": "code",
      "execution_count": null,
      "metadata": {
        "id": "Rz7JbzlChUTS"
      },
      "outputs": [],
      "source": [
        "#ここから、SKsurvで解析可能な形にy0をyのadarrayとして出力する\n",
        "#subsetはyファイルの変数\n",
        "subset1 = y_train0[['event', 'time']]"
      ]
    },
    {
      "cell_type": "code",
      "execution_count": null,
      "metadata": {
        "id": "uaeB8aJThUTT"
      },
      "outputs": [],
      "source": [
        "#tuppleのリストの作成\n",
        "tuples1 = [tuple(x) for x in subset1.to_numpy()]"
      ]
    },
    {
      "cell_type": "code",
      "execution_count": null,
      "metadata": {
        "id": "9vWiQYJWhUTT"
      },
      "outputs": [],
      "source": [
        "#tupleリスト確認\n",
        "tuples1"
      ]
    },
    {
      "cell_type": "code",
      "execution_count": null,
      "metadata": {
        "id": "kD6PG93MhUTT"
      },
      "outputs": [],
      "source": [
        "#dtypeを指定\n",
        "dt=np.dtype([('event', '?'), ('time', '<f8')])"
      ]
    },
    {
      "cell_type": "code",
      "execution_count": null,
      "metadata": {
        "id": "j_s6eTeLhUTT"
      },
      "outputs": [],
      "source": [
        "#作成したndarrayをyとする\n",
        "y_train=np.array(tuples1, dtype=dt)"
      ]
    },
    {
      "cell_type": "code",
      "execution_count": null,
      "metadata": {
        "id": "Iyk9U055hUTT"
      },
      "outputs": [],
      "source": [
        "#timeとeventのdata, testy読み込み\n",
        "from google.colab import files\n",
        "uploaded = files.upload()"
      ]
    },
    {
      "cell_type": "code",
      "execution_count": null,
      "metadata": {
        "id": "r5KvEaHdkA9A"
      },
      "outputs": [],
      "source": [
        "y_test0=pd.read_csv (\"testy.csv\",encoding=\"utf-8\")\n",
        "print (y_test0)"
      ]
    },
    {
      "cell_type": "code",
      "execution_count": null,
      "metadata": {
        "id": "x4X4w2jyhUTU"
      },
      "outputs": [],
      "source": [
        "#ここから、SKsurvで解析可能な形にy0をyのadarrayとして出力する\n",
        "#subsetはyファイルの変数\n",
        "subset2 = y_test0[['event', 'time']]"
      ]
    },
    {
      "cell_type": "code",
      "execution_count": null,
      "metadata": {
        "id": "fZSbDGS7hUTU"
      },
      "outputs": [],
      "source": [
        "tuples2 = [tuple(x) for x in subset2.to_numpy()]"
      ]
    },
    {
      "cell_type": "code",
      "execution_count": null,
      "metadata": {
        "id": "1JR7zJFphUTU"
      },
      "outputs": [],
      "source": [
        "#作成したndarrayをyとする\n",
        "y_test=np.array(tuples2, dtype=dt)"
      ]
    },
    {
      "cell_type": "code",
      "execution_count": null,
      "metadata": {
        "id": "u8wM6BA9hUTU"
      },
      "outputs": [],
      "source": [
        "#RFモデルの作成 (以下のパラメーターを指定、時間がかかるならn_estimatorsを10などに設定)\n",
        "rsf = RandomSurvivalForest(n_estimators=100,\n",
        "                           min_samples_split=10,\n",
        "                           min_samples_leaf=20,\n",
        "                           max_depth=20,\n",
        "                           max_features=\"sqrt\",\n",
        "                           n_jobs=-1,\n",
        "                           random_state=12)\n",
        "rsf.fit(X_train, y_train)"
      ]
    },
    {
      "cell_type": "code",
      "execution_count": null,
      "metadata": {
        "id": "t0-kYTAjhUTU"
      },
      "outputs": [],
      "source": [
        "#test (外部バリデーション)でのCindex確認\n",
        "rsf.score(X_test, y_test)"
      ]
    },
    {
      "cell_type": "code",
      "execution_count": null,
      "metadata": {
        "id": "2lu5WbLbhUTV"
      },
      "outputs": [],
      "source": [
        "#train (内部バリデーション)でのCindex確認\n",
        "rsf.score(X_train, y_train)"
      ]
    },
    {
      "cell_type": "markdown",
      "metadata": {
        "id": "uTIS9XX6rFRQ"
      },
      "source": [
        "#Permutation importanceを用いた、変数重要度の計算"
      ]
    },
    {
      "cell_type": "code",
      "execution_count": null,
      "metadata": {
        "id": "e9rdpksSm-2b"
      },
      "outputs": [],
      "source": [
        "from sklearn.inspection import permutation_importance"
      ]
    },
    {
      "cell_type": "code",
      "execution_count": null,
      "metadata": {
        "id": "jtEiW6qaptrZ"
      },
      "outputs": [],
      "source": [
        "#trainXのpd.dataframeから変数の定義づけ (右端の変数を一旦落としまた入れる)\n",
        "X_no_grade = X_train0.drop(\"GGT\", axis=1)\n",
        "feature_names = X_no_grade.columns.tolist() + [\"GGT\"]"
      ]
    },
    {
      "cell_type": "code",
      "execution_count": null,
      "metadata": {
        "id": "oQ34zVAkpvSR"
      },
      "outputs": [],
      "source": [
        "#feature_namesの中身確認\n",
        "feature_names"
      ]
    },
    {
      "cell_type": "code",
      "execution_count": null,
      "metadata": {
        "id": "gf89OP1Nm-5T"
      },
      "outputs": [],
      "source": [
        "#permutation importanceの計算\n",
        "result = permutation_importance(rsf, X_test, y_test, n_repeats=15, random_state=1)"
      ]
    },
    {
      "cell_type": "code",
      "execution_count": null,
      "metadata": {
        "id": "MyL75iU8nd2n"
      },
      "outputs": [],
      "source": [
        "#結果をPandasのデータフレームに入れて、表示します\n",
        "df = pd.DataFrame([feature_names,result.importances_mean,result.importances_std],index=['Featue','mean','std']).T\n",
        "df_s = df.sort_values('mean',ascending=False)\n",
        "print(df_s)"
      ]
    },
    {
      "cell_type": "markdown",
      "metadata": {
        "id": "cF66gC6Iq_E2"
      },
      "source": [
        "#ここから、実際の患者データにモデルを適用"
      ]
    },
    {
      "cell_type": "code",
      "execution_count": null,
      "metadata": {
        "id": "Zg7uDJmIq-YX"
      },
      "outputs": [],
      "source": [
        "#cases (実際の患者データ)ファイルの読み込み\n",
        "from google.colab import files\n",
        "uploaded = files.upload()"
      ]
    },
    {
      "cell_type": "code",
      "execution_count": null,
      "metadata": {
        "id": "BcnFfxHLnO8t"
      },
      "outputs": [],
      "source": [
        "X_cases=pd.read_csv (\"cases.csv\",encoding=\"utf-8\")\n",
        "print(X_cases)"
      ]
    },
    {
      "cell_type": "code",
      "execution_count": null,
      "metadata": {
        "id": "0S4sbPcJrN2H"
      },
      "outputs": [],
      "source": [
        "#個別のカプランマイヤー\n",
        "surv = rsf.predict_survival_function(X_cases, return_array=True)\n",
        "\n",
        "for i, s in enumerate(surv):\n",
        "    plt.step(rsf.unique_times_, s, where=\"post\", label=str(i))\n",
        "plt.ylabel(\"1-event\")\n",
        "plt.xlabel(\"years\")\n",
        "plt.legend()\n",
        "plt.grid(True)"
      ]
    },
    {
      "cell_type": "code",
      "execution_count": null,
      "metadata": {
        "id": "wEWl0O2tsGTm"
      },
      "outputs": [],
      "source": [
        "#累積ハザードでの表示\n",
        "surv = rsf.predict_cumulative_hazard_function(X_cases, return_array=True)\n",
        "\n",
        "for i, s in enumerate(surv):\n",
        "    plt.step(rsf.unique_times_, s, where=\"post\", label=str(i))\n",
        "plt.ylabel(\"Cumulative hazard\")\n",
        "plt.xlabel(\"years\")\n",
        "plt.legend()\n",
        "plt.grid(True)"
      ]
    }
  ],
  "metadata": {
    "colab": {
      "provenance": [],
      "machine_shape": "hm",
      "gpuType": "A100",
      "include_colab_link": true
    },
    "kernelspec": {
      "display_name": "Python 3",
      "name": "python3"
    },
    "language_info": {
      "codemirror_mode": {
        "name": "ipython",
        "version": 3
      },
      "file_extension": ".py",
      "mimetype": "text/x-python",
      "name": "python",
      "nbconvert_exporter": "python",
      "pygments_lexer": "ipython3",
      "version": "3.8.18"
    },
    "accelerator": "GPU"
  },
  "nbformat": 4,
  "nbformat_minor": 0
}